{
  "nbformat": 4,
  "nbformat_minor": 0,
  "metadata": {
    "colab": {
      "provenance": []
    },
    "kernelspec": {
      "name": "python3",
      "display_name": "Python 3"
    },
    "language_info": {
      "name": "python"
    }
  },
  "cells": [
    {
      "cell_type": "code",
      "execution_count": null,
      "metadata": {
        "colab": {
          "base_uri": "https://localhost:8080/"
        },
        "id": "27FLsq8_zhmj",
        "outputId": "9a496e24-e4fe-4278-d87e-b0a81b4a3878"
      },
      "outputs": [
        {
          "output_type": "stream",
          "name": "stdout",
          "text": [
            "Merhaba, İGÜ - YAPAY ZEKA\n"
          ]
        }
      ],
      "source": [
        "print(\"Merhaba, İGÜ - YAPAY ZEKA\") # print ekrana çıktı veren bir koddur.\n"
      ]
    },
    {
      "cell_type": "code",
      "source": [
        "\n",
        "import sys # import python programlama dilinde yazılıma kütüphane eklemeye yarayan bir kod blogudur.\n",
        "print(sys.version)"
      ],
      "metadata": {
        "colab": {
          "base_uri": "https://localhost:8080/"
        },
        "id": "bS84wRju02Pg",
        "outputId": "f9c2b950-afb5-4aea-ea85-4268416fcc80"
      },
      "execution_count": null,
      "outputs": [
        {
          "output_type": "stream",
          "name": "stdout",
          "text": [
            "3.10.12 (main, Sep 11 2024, 15:47:36) [GCC 11.4.0]\n"
          ]
        }
      ]
    },
    {
      "cell_type": "code",
      "source": [
        "\n",
        "from google.colab import drive # google colab - drive bağlantısı\n",
        "\n",
        "drive.mount('/content/drive')\n"
      ],
      "metadata": {
        "colab": {
          "base_uri": "https://localhost:8080/"
        },
        "id": "CoYAThjf05QD",
        "outputId": "f86bd035-0648-4821-a781-239ec6ae893a"
      },
      "execution_count": null,
      "outputs": [
        {
          "output_type": "stream",
          "name": "stdout",
          "text": [
            "Mounted at /content/drive\n"
          ]
        }
      ]
    },
    {
      "cell_type": "code",
      "source": [
        "import os\n",
        "\n",
        "os.chdir('/content/drive/My Drive/Yapay_Zeka2/')\n",
        "\n",
        "!pwd # bize kodun çıktısını dosya yolu olarak veren kod blogudur."
      ],
      "metadata": {
        "colab": {
          "base_uri": "https://localhost:8080/"
        },
        "id": "QKyU2NJW1Bhc",
        "outputId": "ea14484d-643a-4d3d-a7e0-87a6a7afd966"
      },
      "execution_count": null,
      "outputs": [
        {
          "output_type": "stream",
          "name": "stdout",
          "text": [
            "/content/drive/My Drive/Yapay_Zeka2\n"
          ]
        }
      ]
    },
    {
      "cell_type": "markdown",
      "source": [
        "PYTHON PROGRAMLAMA DİLİ KÜTÜPHANELERİ\n",
        "\n",
        "\n",
        "---\n",
        "\n",
        "\n",
        "- Scikit-Learn, TensorFlow, PyTorch, Keras\n"
      ],
      "metadata": {
        "id": "rfYQPuzJ1Mid"
      }
    },
    {
      "cell_type": "code",
      "source": [
        "# CPU ve GPU teknolojisinin kullanımına göre olması gereken veri sayısı tablosu\n",
        "\n",
        "import pandas as pd\n",
        "\n",
        "tablo = {\n",
        "    \"Aralık\": [\"Küçük ölçekli\", \"Orta ölçekli\", \"Büyük ölçekli\", \"Hiper ölçekli\", \"Exascale\"],\n",
        "    \"Veri Sayısı\": [\"100 - 10,000\", \"10,000 - 100,000\", \"100,000 - Milyon\",  \"Milyon - Milyar\", \"Milyar - Trilyon\"],\n",
        "    \"CPU\": [\"Evet\", \"Evet\", \"Opsiyonel\", \"Hayır\", \"Hayır\"],\n",
        "    \"GPU\": [\"Hayır\", \"Opsiyonel\", \"Evet\", \"Evet\", \"Evet\"]\n",
        "}\n",
        "\n",
        "print(pd.DataFrame(tablo))"
      ],
      "metadata": {
        "colab": {
          "base_uri": "https://localhost:8080/"
        },
        "id": "1JnkfLRL1NvH",
        "outputId": "8ed96e55-c890-44ea-bac3-97f997be9dc3"
      },
      "execution_count": null,
      "outputs": [
        {
          "output_type": "stream",
          "name": "stdout",
          "text": [
            "          Aralık       Veri Sayısı        CPU        GPU\n",
            "0  Küçük ölçekli      100 - 10,000       Evet      Hayır\n",
            "1   Orta ölçekli  10,000 - 100,000       Evet  Opsiyonel\n",
            "2  Büyük ölçekli  100,000 - Milyon  Opsiyonel       Evet\n",
            "3  Hiper ölçekli   Milyon - Milyar      Hayır       Evet\n",
            "4       Exascale  Milyar - Trilyon      Hayır       Evet\n"
          ]
        }
      ]
    },
    {
      "cell_type": "markdown",
      "source": [
        "**Kütüphane Kurulumunda dikkat edilmesi gereken en önemli konu:**\n",
        "\n",
        "Genel kullanım bakımından python kütüphanesi kurucağımız zaman dikkat edilmesi gereken iki yapı bulunmaktadır. Bu yapılar \"pip\" ve \"pip3\"'tür.\n",
        "\n",
        "pip yapısı -> Python 2.x sürümlerini destekler.\n",
        "\n",
        "pip3 yapısı -> Python 3.x sürümlerini destekler."
      ],
      "metadata": {
        "id": "6Dn8YLFB5d_l"
      }
    },
    {
      "cell_type": "code",
      "source": [
        "import pandas as pd\n",
        "\n",
        "# True Positive (TP), True Negative (TN), False Positive (FP), False Negative (FN)\n",
        "matris_bilgisi = {\n",
        "    \"Gerçek Pozitif\": [\"Doğru Pozitif (TP)\", \"Yanlış Negatif (FN)\"],\n",
        "    \"Gerçek Negatif\": [\"Yanlış Pozitif (FP)\", \"Doğru Negatif (TN)\"]\n",
        "}\n",
        "\n",
        "# DataFrame oluşturma\n",
        "matris = pd.DataFrame(matris_bilgisi, index=[\"Tahmin Pozitif\", \"Tahmin Negatif\"])\n",
        "\n",
        "# Tabloyu gösterme\n",
        "print(matris)"
      ],
      "metadata": {
        "colab": {
          "base_uri": "https://localhost:8080/"
        },
        "id": "ZxhZtH_c5kLZ",
        "outputId": "1a93fc27-c10b-4afd-c096-704252e81fda"
      },
      "execution_count": null,
      "outputs": [
        {
          "output_type": "stream",
          "name": "stdout",
          "text": [
            "                     Gerçek Pozitif       Gerçek Negatif\n",
            "Tahmin Pozitif   Doğru Pozitif (TP)  Yanlış Pozitif (FP)\n",
            "Tahmin Negatif  Yanlış Negatif (FN)   Doğru Negatif (TN)\n"
          ]
        }
      ]
    },
    {
      "cell_type": "markdown",
      "source": [
        "Karmaşıklık matrisinden sistemin doğruluğunu bulacağımız formül ->\n",
        "\n",
        "Dogruluk = TP+TN+FP+FN / TP+TN 'dir.\n",
        "\n",
        "Örneğin: TP = 50, TN = 40, FP = 5, FN = 5 ise; Dogruluk = 50 + 40 + 5 + 5 / 50 + 40 --> 0.9 -> % 90 olarak hesaplanmaktadır.\n",
        "\n",
        "%90 Model Doğruluk Oranı - %10 Modelin Hata Oranı 'dır.\n",
        "\n",
        "Hata oranını azaltmak için->\n",
        "\n",
        "Modelin iyileştirilmesi,\n",
        "Veri sayısının arttırılması,\n",
        "Eğitim adım sayısının değiştirilmesi,\n",
        "Veri seti içerisindeki farklı değişlenlerin - özelliklerin algoritmaya dahil edilmesi."
      ],
      "metadata": {
        "id": "fFL6VRJR9ccB"
      }
    },
    {
      "cell_type": "code",
      "source": [
        "\n",
        "# Scikit-Learn kütüphanesinin sisteme dahil edilmesi ve veri setinin işleme alınması\n",
        "\n",
        "!pip install -U scikit-learn"
      ],
      "metadata": {
        "colab": {
          "base_uri": "https://localhost:8080/"
        },
        "id": "qmvtueYX9rD5",
        "outputId": "75902b6a-4983-4aa8-8a33-3dc3b2daed27"
      },
      "execution_count": null,
      "outputs": [
        {
          "output_type": "stream",
          "name": "stdout",
          "text": [
            "Requirement already satisfied: scikit-learn in /usr/local/lib/python3.10/dist-packages (1.5.2)\n",
            "Requirement already satisfied: numpy>=1.19.5 in /usr/local/lib/python3.10/dist-packages (from scikit-learn) (1.26.4)\n",
            "Requirement already satisfied: scipy>=1.6.0 in /usr/local/lib/python3.10/dist-packages (from scikit-learn) (1.13.1)\n",
            "Requirement already satisfied: joblib>=1.2.0 in /usr/local/lib/python3.10/dist-packages (from scikit-learn) (1.4.2)\n",
            "Requirement already satisfied: threadpoolctl>=3.1.0 in /usr/local/lib/python3.10/dist-packages (from scikit-learn) (3.5.0)\n"
          ]
        }
      ]
    },
    {
      "cell_type": "markdown",
      "source": [
        "Scikit-Learn kütüphanesi:\n",
        "\n",
        "!pip install -U scikit-learn"
      ],
      "metadata": {
        "id": "p-chBwuAAOth"
      }
    },
    {
      "cell_type": "code",
      "source": [
        "\n",
        "from sklearn.datasets import fetch_california_housing\n",
        "import pandas as pd\n",
        "\n",
        "# California Housing veri setini yükleme\n",
        "housing = fetch_california_housing()\n",
        "\n",
        "# Özellikleri ve hedef değişkeni almak\n",
        "X = housing.data  # Bağımsız değişkenler (özellikler)\n",
        "y = housing.target  # Bağımlı değişken (fiyatlar)\n",
        "\n",
        "# Verileri bir DataFrame'e dönüştürme\n",
        "df = pd.DataFrame(X, columns=housing.feature_names)\n",
        "df['PRICE'] = y\n",
        "\n",
        "# İlk birkaç satırı görüntüleme\n",
        "print(df.head())\n"
      ],
      "metadata": {
        "colab": {
          "base_uri": "https://localhost:8080/"
        },
        "id": "4lPkUOfIAQsS",
        "outputId": "decabe68-eb6f-46ae-9d0d-69f01cb2d04a"
      },
      "execution_count": null,
      "outputs": [
        {
          "output_type": "stream",
          "name": "stdout",
          "text": [
            "   MedInc  HouseAge  AveRooms  AveBedrms  Population  AveOccup  Latitude  \\\n",
            "0  8.3252      41.0  6.984127   1.023810       322.0  2.555556     37.88   \n",
            "1  8.3014      21.0  6.238137   0.971880      2401.0  2.109842     37.86   \n",
            "2  7.2574      52.0  8.288136   1.073446       496.0  2.802260     37.85   \n",
            "3  5.6431      52.0  5.817352   1.073059       558.0  2.547945     37.85   \n",
            "4  3.8462      52.0  6.281853   1.081081       565.0  2.181467     37.85   \n",
            "\n",
            "   Longitude  PRICE  \n",
            "0    -122.23  4.526  \n",
            "1    -122.22  3.585  \n",
            "2    -122.24  3.521  \n",
            "3    -122.25  3.413  \n",
            "4    -122.25  3.422  \n"
          ]
        }
      ]
    },
    {
      "cell_type": "code",
      "source": [
        "from sklearn.datasets import fetch_california_housing\n",
        "from sklearn.model_selection import train_test_split\n",
        "from sklearn.linear_model import LinearRegression\n",
        "from sklearn.metrics import mean_squared_error, r2_score\n",
        "import pandas as pd\n",
        "\n",
        "# California Housing veri setini yükleme\n",
        "housing = fetch_california_housing()\n",
        "df = pd.DataFrame(housing.data, columns=housing.feature_names)\n",
        "df['PRICE'] = housing.target\n",
        "\n",
        "# Özellikler ve hedef değişkeni ayırma\n",
        "X = df.drop('PRICE', axis=1)\n",
        "y = df['PRICE']\n",
        "\n",
        "# Veri setini bölme\n",
        "X_train, X_test, y_train, y_test = train_test_split(X, y, test_size=0.3, random_state=42)\n",
        "\n",
        "# Model oluşturma\n",
        "model = LinearRegression()\n",
        "model.fit(X_train, y_train)\n",
        "\n",
        "# Tahmin yapma\n",
        "predictions = model.predict(X_test)\n",
        "print(\"Tahmin Sonucları: \", predictions[:5])\n",
        "print(\"Gerçek Değerler: \", y_test[:5].values)\n",
        "\n",
        "# Sistemin Ortalama Hatası (MSE)\n",
        "mse = mean_squared_error(y_test, predictions)\n",
        "print(\"Mean Squared Error (MSE) Sonucu:\", mse)\n",
        "\n",
        "# Sistemin R-kare Hatası (R²)\n",
        "r2 = r2_score(y_test, predictions)\n",
        "print(\"R-squared (R²) Sonucu:\", r2)"
      ],
      "metadata": {
        "colab": {
          "base_uri": "https://localhost:8080/"
        },
        "id": "gKVNJawpAXcs",
        "outputId": "3ba3db99-75b6-4d98-afc5-8eae4ec47170"
      },
      "execution_count": null,
      "outputs": [
        {
          "output_type": "stream",
          "name": "stdout",
          "text": [
            "Tahmin Sonucları:  [0.72604907 1.76743383 2.71092161 2.83514727 2.60695807]\n",
            "Gerçek Değerler:  [0.477   0.458   5.00001 2.186   2.78   ]\n",
            "Mean Squared Error (MSE) Sonucu: 0.5305677824766758\n",
            "R-squared (R²) Sonucu: 0.595770232606166\n"
          ]
        }
      ]
    },
    {
      "cell_type": "code",
      "source": [
        "# TensorFlow kütüphanesinin sisteme dahil edilmesi ve veri setinin işleme alınması\n",
        "\n",
        "!pip install pydot\n",
        "!apt-get install graphviz\n",
        "\n",
        "\n",
        "# Bu iki kütüphane ile oluşturulan yapay zeka modelinin yapısını çıktı alabileceğiz."
      ],
      "metadata": {
        "id": "oQ6D3aF3GpuD",
        "colab": {
          "base_uri": "https://localhost:8080/"
        },
        "outputId": "fdcdf7ed-962f-4a59-9d1d-20093f4cbc90"
      },
      "execution_count": null,
      "outputs": [
        {
          "output_type": "stream",
          "name": "stdout",
          "text": [
            "Requirement already satisfied: pydot in /usr/local/lib/python3.10/dist-packages (3.0.2)\n",
            "Requirement already satisfied: pyparsing>=3.0.9 in /usr/local/lib/python3.10/dist-packages (from pydot) (3.2.0)\n",
            "Reading package lists... Done\n",
            "Building dependency tree... Done\n",
            "Reading state information... Done\n",
            "graphviz is already the newest version (2.42.2-6ubuntu0.1).\n",
            "0 upgraded, 0 newly installed, 0 to remove and 49 not upgraded.\n"
          ]
        }
      ]
    },
    {
      "cell_type": "markdown",
      "source": [
        "\n",
        "\n",
        "---\n",
        "\n",
        "\n",
        "TensorFlow kütüphanesi:\n",
        "\n",
        "!pip install tensorflow\n",
        "\n",
        "!pip install tensorflow-gpu\n",
        "\n",
        "\n",
        "---\n",
        "\n"
      ],
      "metadata": {
        "id": "nRtImxe7G6y8"
      }
    },
    {
      "cell_type": "code",
      "source": [
        "import tensorflow as tf\n",
        "from tensorflow.keras import layers, models\n",
        "from tensorflow.keras.datasets import mnist\n",
        "from tensorflow.keras.utils import plot_model\n",
        "\n",
        "(x_train, y_train), (x_test, y_test) = mnist.load_data() # MNIST veri setini yükleme\n",
        "x_train, x_test = x_train / 255.0, x_test / 255.0\n",
        "!pwd"
      ],
      "metadata": {
        "colab": {
          "base_uri": "https://localhost:8080/"
        },
        "id": "M8XpGnQIG_Tj",
        "outputId": "ab910c9d-b1a3-494d-b1c6-8a5f9de3d25e"
      },
      "execution_count": null,
      "outputs": [
        {
          "output_type": "stream",
          "name": "stdout",
          "text": [
            "Downloading data from https://storage.googleapis.com/tensorflow/tf-keras-datasets/mnist.npz\n",
            "\u001b[1m11490434/11490434\u001b[0m \u001b[32m━━━━━━━━━━━━━━━━━━━━\u001b[0m\u001b[37m\u001b[0m \u001b[1m1s\u001b[0m 0us/step\n",
            "/content/drive/MyDrive/Yapay_Zeka2\n"
          ]
        }
      ]
    },
    {
      "cell_type": "markdown",
      "source": [
        "**Yapay zeka modeli oluşturmada aşamalar;**\n",
        "\n",
        "\n",
        "---\n",
        "\n",
        "1.Modelin Oluşturulması-->model=models.Sequential()\n",
        "\n",
        "Yapay zeka modeli oluşturma süreci, birkaç temel aşamadan oluşur. İşte bu aşamalar:\n",
        "\n",
        "Modelin Oluşturulması: İlk olarak, bir model oluşturmak için Sequential sınıfını kullanıyoruz. Bu, katmanların sıralı olarak yerleştirileceği bir model yapısı sağlar.\n",
        "\n",
        "\n",
        "---\n",
        "\n",
        "\n",
        "2.Flateen katmanı-->layersFlatten(input_shape=)()28,280\n",
        "Bu katman, 2 boyutlu()28*28) bir görüntüyü 1  boyutlu bit vrktöre dönüştürür.28*28=784 boyutlu bir vektördür.\n",
        "Flatten Katmanı: Ardından, görüntüleri düzleştirmek için bir Flatten katmanı ekliyoruz. Bu katman, 2 boyutlu (28x28) bir görüntüyü 1 boyutlu bir vektöre dönüştürür. Sonuç olarak, bu işlem 784 boyutlu bir vektör elde etmemizi sağlar.\n",
        "\n",
        "\n",
        "---\n",
        "\n",
        "\n",
        "3.Dense katmanı->layers.Dense(128activation='relu')\n",
        "Dense Katmanı: Sonraki adımda, modelimize bir Dense katmanı ekliyoruz. Bu katman, 128 nörondan oluşur ve her bir nöron, bir önceki katmandaki tüm nöronlarla bağlıdır. ReLU (Rectified Linear Unit) aktivasyon fonksiyonu kullanarak, negatif değerleri sıfıra dönüştürerek modelin doğrusal olmayan ilişkileri öğrenmesini sağlarız.\n",
        "Bu katman, tam bağlı bir katmandır.Yani her bir nöron, bir önceki katmanın tüm nöronlarla bağlıdır.\n",
        "\n",
        "\n",
        "---\n",
        "\n",
        "\n",
        "4.Droput katmanı->layers.dropout(0,2)\n",
        "Dropout Katmanı: Aşırı öğrenmeyi önlemek için bir Dropout katmanı ekliyoruz. Bu katman, eğitim sırasında rastgele nöronların %20'sini devre dışı bırakır ve bu sayede modelin genel performansını artırır.\n",
        "\n",
        "\n",
        "---\n",
        "\n",
        "\n",
        "5.Çıkış katmanı\n",
        "->layers.Dense(10,activation='softmax')\n",
        "Dense katmanı=bu katman 10 nöron bulunur.\n",
        "\n",
        "sofmax fonksiyonu,g.r.ş değerlerini olasılıklara çevirir.her bir nöron çıkış 0 ile 1 arasında olacak şekilde normalize edilir ve tüm çıkışların toplamı 1 olur.\n",
        "Bu aşamalar, basit bir yapay zeka modelinin (örneğin, el yazısı rakamlarını tanıyan bir model) temel yapı taşlarını oluşturmaktadır. Modeli derlemek, eğitim verisi ile eğitmek ve performansını değerlendirmek de sonraki önemli adımlardır.\n",
        "\n"
      ],
      "metadata": {
        "id": "b_LgRNNtHORD"
      }
    },
    {
      "cell_type": "code",
      "source": [
        "\n",
        "model = models.Sequential([ # Modeli oluşturma\n",
        "    layers.Flatten(input_shape=(28, 28)),\n",
        "    layers.Dense(128, activation='relu'),\n",
        "    layers.Dropout(0.2),\n",
        "    layers.Dense(10, activation='softmax')\n",
        "])\n"
      ],
      "metadata": {
        "colab": {
          "base_uri": "https://localhost:8080/"
        },
        "id": "LwXzLvvuHREk",
        "outputId": "0345f7a8-6d76-435f-de25-958b956f3dfa"
      },
      "execution_count": null,
      "outputs": [
        {
          "output_type": "stream",
          "name": "stderr",
          "text": [
            "/usr/local/lib/python3.10/dist-packages/keras/src/layers/reshaping/flatten.py:37: UserWarning: Do not pass an `input_shape`/`input_dim` argument to a layer. When using Sequential models, prefer using an `Input(shape)` object as the first layer in the model instead.\n",
            "  super().__init__(**kwargs)\n"
          ]
        }
      ]
    },
    {
      "cell_type": "markdown",
      "source": [
        "**Modelin eğitim süreci**"
      ],
      "metadata": {
        "id": "bMdxttg9KycC"
      }
    },
    {
      "cell_type": "code",
      "source": [
        "model.compile(optimizer='adam', # Modeli derleme\n",
        "              loss='sparse_categorical_crossentropy',\n",
        "              metrics=['accuracy'])\n"
      ],
      "metadata": {
        "id": "bOEDkHhcK08i"
      },
      "execution_count": null,
      "outputs": []
    },
    {
      "cell_type": "markdown",
      "source": [
        "**Modelin eğitim süreci**\n",
        "\n",
        "model eğitim işlemi --> model.fit()\n",
        "\n",
        "model eğitim işlemi --> model.fit(x_train, y_train, ...)\n",
        "\n",
        "Eğitim Adım Sayısı --> epochs=5"
      ],
      "metadata": {
        "id": "WmS_izYxK4gC"
      }
    },
    {
      "cell_type": "code",
      "source": [
        "model.fit(x_train, y_train, epochs=5) # Modeli Eğitilmesi Adımı\n",
        "\n",
        "# Modeli görselleştirmek ve çalışma alanına kaydetmek için plot_model kullanımı\n",
        "plot_model(model, to_file='YZ_model_ciktisi/yz_tensoflow_model_ciktisi.png', show_shapes=True, show_layer_names=True) # Modelin Çıktısı\n"
      ],
      "metadata": {
        "colab": {
          "base_uri": "https://localhost:8080/",
          "height": 1000
        },
        "id": "Ut1RxSmiLE2z",
        "outputId": "a3b6aff3-fe55-47f3-9310-4dcc97ac53cb"
      },
      "execution_count": null,
      "outputs": [
        {
          "output_type": "stream",
          "name": "stdout",
          "text": [
            "Epoch 1/5\n",
            "\u001b[1m1875/1875\u001b[0m \u001b[32m━━━━━━━━━━━━━━━━━━━━\u001b[0m\u001b[37m\u001b[0m \u001b[1m12s\u001b[0m 6ms/step - accuracy: 0.8613 - loss: 0.4773\n",
            "Epoch 2/5\n",
            "\u001b[1m1875/1875\u001b[0m \u001b[32m━━━━━━━━━━━━━━━━━━━━\u001b[0m\u001b[37m\u001b[0m \u001b[1m9s\u001b[0m 5ms/step - accuracy: 0.9555 - loss: 0.1487\n",
            "Epoch 3/5\n",
            "\u001b[1m1875/1875\u001b[0m \u001b[32m━━━━━━━━━━━━━━━━━━━━\u001b[0m\u001b[37m\u001b[0m \u001b[1m11s\u001b[0m 6ms/step - accuracy: 0.9684 - loss: 0.1045\n",
            "Epoch 4/5\n",
            "\u001b[1m1875/1875\u001b[0m \u001b[32m━━━━━━━━━━━━━━━━━━━━\u001b[0m\u001b[37m\u001b[0m \u001b[1m12s\u001b[0m 6ms/step - accuracy: 0.9746 - loss: 0.0856\n",
            "Epoch 5/5\n",
            "\u001b[1m1875/1875\u001b[0m \u001b[32m━━━━━━━━━━━━━━━━━━━━\u001b[0m\u001b[37m\u001b[0m \u001b[1m24s\u001b[0m 8ms/step - accuracy: 0.9771 - loss: 0.0738\n"
          ]
        },
        {
          "output_type": "execute_result",
          "data": {
            "image/png": "[encoded data removed]",
            "text/plain": [
              "<IPython.core.display.Image object>"
            ]
          },
          "metadata": {},
          "execution_count": 16
        }
      ]
    },
    {
      "cell_type": "code",
      "source": [
        "# Test seti üzerinde modelin performansını değerlendirme\n",
        "\n",
        "hata_oranı, basarı_oranı = model.evaluate(x_test, y_test, verbose=2)\n",
        "\n",
        "print(\" Modelin Doğruluk Oranı: %\", basarı_oranı*100)\n",
        "print(\" Modelin Hata Oranı: %\", hata_oranı*100)"
      ],
      "metadata": {
        "colab": {
          "base_uri": "https://localhost:8080/"
        },
        "id": "kCWGxmoETc_i",
        "outputId": "a61dff98-4272-4820-fd38-e652227c40e0"
      },
      "execution_count": null,
      "outputs": [
        {
          "output_type": "stream",
          "name": "stdout",
          "text": [
            "313/313 - 1s - 2ms/step - accuracy: 0.9756 - loss: 0.0783\n",
            " Modelin Doğruluk Oranı: % 97.5600004196167\n",
            " Modelin Hata Oranı: % 7.825401425361633\n"
          ]
        }
      ]
    },
    {
      "cell_type": "markdown",
      "source": [
        "PyTorch kütüphanesi:\n",
        "\n",
        "!pip install torch torchvision torchaudio"
      ],
      "metadata": {
        "id": "gehjYM2YTtOi"
      }
    },
    {
      "cell_type": "code",
      "source": [
        "import torch\n",
        "import torch.nn as nn\n",
        "import torch.optim as optim\n",
        "from torchvision import datasets, transforms\n",
        "import matplotlib.pyplot as plt\n",
        "\n",
        "# MNIST veri setini yükleme\n",
        "transform = transforms.Compose([transforms.ToTensor(), transforms.Normalize((0.5,), (0.5,))])\n",
        "train_set = datasets.MNIST('./data', train=True, download=True, transform=transform)\n",
        "test_set = datasets.MNIST('./data', train=False, transform=transform)\n",
        "\n",
        "train_loader = torch.utils.data.DataLoader(train_set, batch_size=64, shuffle=True)\n",
        "test_loader = torch.utils.data.DataLoader(test_set, batch_size=64, shuffle=False)\n",
        "\n",
        "# Modeli oluşturma\n",
        "class Net(nn.Module):\n",
        "    def __init__(self):\n",
        "        super(Net, self).__init__()\n",
        "        self.fc1 = nn.Linear(28 * 28, 128)\n",
        "        self.fc2 = nn.Linear(128, 10)\n",
        "\n",
        "    def forward(self, x):\n",
        "        x = x.view(-1, 28 * 28)\n",
        "        x = torch.relu(self.fc1(x))\n",
        "        x = self.fc2(x)\n",
        "        return x\n",
        "\n",
        "model = Net()\n",
        "\n",
        "# Kayıp fonksiyonu ve optimizer\n",
        "criterion = nn.CrossEntropyLoss()\n",
        "optimizer = optim.SGD(model.parameters(), lr=0.01)\n",
        "\n",
        "# Eğitim için boş listeler tanımla\n",
        "train_losses = []\n",
        "train_accuracies = []\n",
        "\n",
        "# Eğitme döngüsü\n",
        "for epoch in range(50):  # 50 epoch boyunca eğit\n",
        "    running_loss = 0.0\n",
        "    correct = 0\n",
        "    total = 0\n",
        "\n",
        "    for images, labels in train_loader:\n",
        "        optimizer.zero_grad()\n",
        "        output = model(images)\n",
        "        loss = criterion(output, labels)\n",
        "        loss.backward()\n",
        "        optimizer.step()\n",
        "\n",
        "        # Kayıp (loss) değerini topla\n",
        "        running_loss += loss.item()\n",
        "\n",
        "        # Doğruluğu hesapla\n",
        "        _, predicted = torch.max(output, 1)\n",
        "        total += labels.size(0)\n",
        "        correct += (predicted == labels).sum().item()\n",
        "\n",
        "    # Her epoch sonunda ortalama kayıp ve doğruluk\n",
        "    epoch_loss = running_loss / len(train_loader)\n",
        "    epoch_accuracy = 100 * correct / total\n",
        "    train_losses.append(epoch_loss)\n",
        "    train_accuracies.append(epoch_accuracy)\n",
        "\n",
        "    print(f'Epoch {epoch+1}, Loss: {epoch_loss}, Accuracy: {epoch_accuracy}%')\n",
        "\n",
        "print('Eğitim tamamlandı!')\n",
        "\n",
        "# Eğitim sonuçlarını grafikle göster\n",
        "epochs = range(1, 51)  # 50 epoch olduğu için 1'den 51'ya kadar olan epoch'lar\n",
        "plt.figure(figsize=(12, 5))\n",
        "\n",
        "# Kayıp grafiği\n",
        "plt.subplot(1, 2, 1)\n",
        "plt.plot(epochs, train_losses, 'bo-', label='Eğitim Kaybı (Loss)')\n",
        "plt.title('Eğitim Kaybı')\n",
        "plt.xlabel('Epochs')\n",
        "plt.ylabel('Loss')\n",
        "plt.legend()\n",
        "\n",
        "# Doğruluk grafiği\n",
        "plt.subplot(1, 2, 2)\n",
        "plt.plot(epochs, train_accuracies, 'go-', label='Eğitim Doğruluğu (Accuracy)')\n",
        "plt.title('Eğitim Doğruluğu')\n",
        "plt.xlabel('Epochs')\n",
        "plt.ylabel('Accuracy (%)')\n",
        "plt.legend()\n",
        "\n",
        "plt.tight_layout()\n",
        "plt.show()\n"
      ],
      "metadata": {
        "colab": {
          "base_uri": "https://localhost:8080/",
          "height": 1000
        },
        "id": "maX-ZfdFTvES",
        "outputId": "4dace6dc-6b2d-48af-9cbe-00e86224d50b"
      },
      "execution_count": null,
      "outputs": [
        {
          "output_type": "stream",
          "name": "stdout",
          "text": [
            "Downloading http://yann.lecun.com/exdb/mnist/train-images-idx3-ubyte.gz\n",
            "Failed to download (trying next):\n",
            "<urlopen error [SSL: CERTIFICATE_VERIFY_FAILED] certificate verify failed: certificate has expired (_ssl.c:1007)>\n",
            "\n",
            "Downloading https://ossci-datasets.s3.amazonaws.com/mnist/train-images-idx3-ubyte.gz\n",
            "Downloading https://ossci-datasets.s3.amazonaws.com/mnist/train-images-idx3-ubyte.gz to ./data/MNIST/raw/train-images-idx3-ubyte.gz\n"
          ]
        },
        {
          "output_type": "stream",
          "name": "stderr",
          "text": [
            "100%|██████████| 9.91M/9.91M [00:00<00:00, 11.9MB/s]\n"
          ]
        },
        {
          "output_type": "stream",
          "name": "stdout",
          "text": [
            "Extracting ./data/MNIST/raw/train-images-idx3-ubyte.gz to ./data/MNIST/raw\n",
            "\n",
            "Downloading http://yann.lecun.com/exdb/mnist/train-labels-idx1-ubyte.gz\n",
            "Failed to download (trying next):\n",
            "<urlopen error [SSL: CERTIFICATE_VERIFY_FAILED] certificate verify failed: certificate has expired (_ssl.c:1007)>\n",
            "\n",
            "Downloading https://ossci-datasets.s3.amazonaws.com/mnist/train-labels-idx1-ubyte.gz\n",
            "Downloading https://ossci-datasets.s3.amazonaws.com/mnist/train-labels-idx1-ubyte.gz to ./data/MNIST/raw/train-labels-idx1-ubyte.gz\n"
          ]
        },
        {
          "output_type": "stream",
          "name": "stderr",
          "text": [
            "100%|██████████| 28.9k/28.9k [00:00<00:00, 384kB/s]\n"
          ]
        },
        {
          "output_type": "stream",
          "name": "stdout",
          "text": [
            "Extracting ./data/MNIST/raw/train-labels-idx1-ubyte.gz to ./data/MNIST/raw\n",
            "\n",
            "Downloading http://yann.lecun.com/exdb/mnist/t10k-images-idx3-ubyte.gz\n",
            "Failed to download (trying next):\n",
            "<urlopen error [SSL: CERTIFICATE_VERIFY_FAILED] certificate verify failed: certificate has expired (_ssl.c:1007)>\n",
            "\n",
            "Downloading https://ossci-datasets.s3.amazonaws.com/mnist/t10k-images-idx3-ubyte.gz\n",
            "Downloading https://ossci-datasets.s3.amazonaws.com/mnist/t10k-images-idx3-ubyte.gz to ./data/MNIST/raw/t10k-images-idx3-ubyte.gz\n"
          ]
        },
        {
          "output_type": "stream",
          "name": "stderr",
          "text": [
            "100%|██████████| 1.65M/1.65M [00:02<00:00, 800kB/s] \n"
          ]
        },
        {
          "output_type": "stream",
          "name": "stdout",
          "text": [
            "Extracting ./data/MNIST/raw/t10k-images-idx3-ubyte.gz to ./data/MNIST/raw\n",
            "\n",
            "Downloading http://yann.lecun.com/exdb/mnist/t10k-labels-idx1-ubyte.gz\n",
            "Failed to download (trying next):\n",
            "<urlopen error [SSL: CERTIFICATE_VERIFY_FAILED] certificate verify failed: certificate has expired (_ssl.c:1007)>\n",
            "\n",
            "Downloading https://ossci-datasets.s3.amazonaws.com/mnist/t10k-labels-idx1-ubyte.gz\n",
            "Downloading https://ossci-datasets.s3.amazonaws.com/mnist/t10k-labels-idx1-ubyte.gz to ./data/MNIST/raw/t10k-labels-idx1-ubyte.gz\n"
          ]
        },
        {
          "output_type": "stream",
          "name": "stderr",
          "text": [
            "100%|██████████| 4.54k/4.54k [00:00<00:00, 3.59MB/s]\n"
          ]
        },
        {
          "output_type": "stream",
          "name": "stdout",
          "text": [
            "Extracting ./data/MNIST/raw/t10k-labels-idx1-ubyte.gz to ./data/MNIST/raw\n",
            "\n",
            "Epoch 1, Loss: 0.7475840107623194, Accuracy: 81.68666666666667%\n",
            "Epoch 2, Loss: 0.3655052119766725, Accuracy: 89.6%\n",
            "Epoch 3, Loss: 0.32135570270896974, Accuracy: 90.79833333333333%\n",
            "Epoch 4, Loss: 0.29505472430097524, Accuracy: 91.445%\n",
            "Epoch 5, Loss: 0.27353982729857157, Accuracy: 92.15833333333333%\n",
            "Epoch 6, Loss: 0.2548250490461967, Accuracy: 92.71666666666667%\n",
            "Epoch 7, Loss: 0.23816479608289468, Accuracy: 93.21166666666667%\n",
            "Epoch 8, Loss: 0.2232358081063736, Accuracy: 93.63833333333334%\n",
            "Epoch 9, Loss: 0.2089082886462908, Accuracy: 94.12166666666667%\n",
            "Epoch 10, Loss: 0.19691915405806956, Accuracy: 94.41666666666667%\n",
            "Epoch 11, Loss: 0.18597586209903647, Accuracy: 94.77166666666666%\n",
            "Epoch 12, Loss: 0.17564510548515105, Accuracy: 95.04666666666667%\n",
            "Epoch 13, Loss: 0.16661950783220245, Accuracy: 95.29166666666667%\n",
            "Epoch 14, Loss: 0.15829702595006556, Accuracy: 95.565%\n",
            "Epoch 15, Loss: 0.15013734612470941, Accuracy: 95.77833333333334%\n",
            "Epoch 16, Loss: 0.14321815626405832, Accuracy: 95.98666666666666%\n",
            "Epoch 17, Loss: 0.1370147351942051, Accuracy: 96.15%\n",
            "Epoch 18, Loss: 0.13106271414272885, Accuracy: 96.37666666666667%\n",
            "Epoch 19, Loss: 0.126052309526627, Accuracy: 96.50166666666667%\n",
            "Epoch 20, Loss: 0.12081290566638461, Accuracy: 96.62833333333333%\n",
            "Epoch 21, Loss: 0.11628743603345015, Accuracy: 96.79166666666667%\n",
            "Epoch 22, Loss: 0.11219719203034126, Accuracy: 96.885%\n",
            "Epoch 23, Loss: 0.10791022812467077, Accuracy: 96.99833333333333%\n",
            "Epoch 24, Loss: 0.10437016216899032, Accuracy: 97.14833333333333%\n",
            "Epoch 25, Loss: 0.10069722605487907, Accuracy: 97.19333333333333%\n",
            "Epoch 26, Loss: 0.09747026453136222, Accuracy: 97.32166666666667%\n",
            "Epoch 27, Loss: 0.09463025308224057, Accuracy: 97.405%\n",
            "Epoch 28, Loss: 0.09167224407466108, Accuracy: 97.44666666666667%\n",
            "Epoch 29, Loss: 0.08904471480424629, Accuracy: 97.52666666666667%\n",
            "Epoch 30, Loss: 0.08651174735109102, Accuracy: 97.64666666666666%\n",
            "Epoch 31, Loss: 0.08390708705450077, Accuracy: 97.705%\n",
            "Epoch 32, Loss: 0.0814297313788044, Accuracy: 97.78%\n",
            "Epoch 33, Loss: 0.07958533978764849, Accuracy: 97.81%\n",
            "Epoch 34, Loss: 0.0776024999251879, Accuracy: 97.83666666666667%\n",
            "Epoch 35, Loss: 0.07564355816437936, Accuracy: 97.93333333333334%\n",
            "Epoch 36, Loss: 0.07358172080759555, Accuracy: 98.00166666666667%\n",
            "Epoch 37, Loss: 0.07190335766652595, Accuracy: 98.0%\n",
            "Epoch 38, Loss: 0.06991036653991288, Accuracy: 98.05833333333334%\n",
            "Epoch 39, Loss: 0.06825724263181056, Accuracy: 98.17333333333333%\n",
            "Epoch 40, Loss: 0.06689029271210006, Accuracy: 98.20666666666666%\n",
            "Epoch 41, Loss: 0.06499063058732463, Accuracy: 98.24833333333333%\n",
            "Epoch 42, Loss: 0.06366897433170124, Accuracy: 98.30166666666666%\n",
            "Epoch 43, Loss: 0.06226574844801858, Accuracy: 98.3%\n",
            "Epoch 44, Loss: 0.06096322068980317, Accuracy: 98.34666666666666%\n",
            "Epoch 45, Loss: 0.05937691640455339, Accuracy: 98.415%\n",
            "Epoch 46, Loss: 0.05828642899762275, Accuracy: 98.42166666666667%\n",
            "Epoch 47, Loss: 0.05701108706563012, Accuracy: 98.44333333333333%\n",
            "Epoch 48, Loss: 0.05590174199222946, Accuracy: 98.49166666666666%\n",
            "Epoch 49, Loss: 0.05489632209687472, Accuracy: 98.54833333333333%\n",
            "Epoch 50, Loss: 0.05356184807943621, Accuracy: 98.56666666666666%\n",
            "Eğitim tamamlandı!\n"
          ]
        },
        {
          "output_type": "display_data",
          "data": {
            "text/plain": [
              "<Figure size 1200x500 with 2 Axes>"
            ],
            "image/png": "[encoded data removed]"
          },
          "metadata": {}
        }
      ]
    },
    {
      "cell_type": "code",
      "source": [
        "\n",
        "# Test verisi üzerinde modelin performansını değerlendirme\n",
        "test_loss = 0.0\n",
        "correct = 0\n",
        "total = 0\n",
        "\n",
        "# Test verisi üzerinde modelin kaybını ve doğruluğunu hesapla (gradyan hesaplama yok)\n",
        "with torch.no_grad():\n",
        "    for images, labels in test_loader:\n",
        "        output = model(images)\n",
        "        loss = criterion(output, labels)\n",
        "        test_loss += loss.item()\n",
        "\n",
        "        _, predicted = torch.max(output, 1)\n",
        "        total += labels.size(0)\n",
        "        correct += (predicted == labels).sum().item()\n",
        "\n",
        "# Test seti kaybı ve doğruluğu\n",
        "test_loss /= len(test_loader)\n",
        "test_accuracy = 100 * correct / total\n",
        "\n",
        "print(\"Test Seti Kaybı: \", test_loss)\n",
        "print(\"Test Seti Doğruluğu: \", test_accuracy , \"%\")"
      ],
      "metadata": {
        "colab": {
          "base_uri": "https://localhost:8080/"
        },
        "id": "mvNr-7ALVU7R",
        "outputId": "5a946986-a907-4d99-ed75-2e56c61128a8"
      },
      "execution_count": null,
      "outputs": [
        {
          "output_type": "stream",
          "name": "stdout",
          "text": [
            "Test Seti Kaybı:  0.08181218460801348\n",
            "Test Seti Doğruluğu:  97.45 %\n"
          ]
        }
      ]
    },
    {
      "cell_type": "markdown",
      "source": [
        "**Keras kütüphanesi:**\n",
        "\n",
        "!pip install keras"
      ],
      "metadata": {
        "id": "wM2H7JF8Vbzp"
      }
    },
    {
      "cell_type": "code",
      "source": [
        "#from tensorflow.keras.models import Sequential\n",
        "#from tensorflow.keras.layers import Dense\n",
        "\n",
        "# Modeli oluşturma\n",
        "#model = Sequential()\n",
        "#model.add(Dense(128, activation='relu', input_shape=(28*28,)))\n",
        "#model.add(Dense(10, activation='softmax'))\n",
        "\n",
        "# Modeli derleme\n",
        "#model.compile(optimizer='adam', loss='categorical_crossentropy', metrics=['accuracy'])\n",
        "\n",
        "# Eğitme\n",
        "#model.fit(x_train, y_train, epochs=5)"
      ],
      "metadata": {
        "id": "UzeGPc-NVqWR"
      },
      "execution_count": null,
      "outputs": []
    }
  ]
}