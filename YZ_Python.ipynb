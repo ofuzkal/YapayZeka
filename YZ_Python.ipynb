{
  "nbformat": 4,
  "nbformat_minor": 0,
  "metadata": {
    "colab": {
      "provenance": []
    },
    "kernelspec": {
      "name": "python3",
      "display_name": "Python 3"
    },
    "language_info": {
      "name": "python"
    }
  },
  "cells": [
    {
      "cell_type": "markdown",
      "source": [
        "Yapay Zeka dersinin Google Colab bağlantı ayarlarının yapıldığı kod bölümüdür.\n",
        "\n",
        "Bu kod ile bağlantıları sağlayıp drive dosya bölümüne bağlantı sağlanmaktadır.\n",
        "\n",
        "Python programlama dilinde;\n",
        "\n",
        "\"print\" komutu ekrandan kullancıya bilgi veren bir koddur.\n",
        "\n",
        "\"import\" komutu ile yazılıma kütüphane dahil etme işlemleri gerçekleştirilir.\n",
        "\n",
        "Yapay Zeka dersi ilk kodlama çıktısıdır."
      ],
      "metadata": {
        "id": "ORfpPiu-NlNF"
      }
    },
    {
      "cell_type": "code",
      "execution_count": null,
      "metadata": {
        "colab": {
          "base_uri": "https://localhost:8080/"
        },
        "id": "LJfl6AOKcYGJ",
        "outputId": "c2eb7b9d-d773-4d29-e402-2f32828b8c07"
      },
      "outputs": [
        {
          "output_type": "stream",
          "name": "stdout",
          "text": [
            "Merhaba, İGÜ - YAPAY ZEKA\n"
          ]
        }
      ],
      "source": [
        "print(\"Merhaba, İGÜ - YAPAY ZEKA\") #print ekrana çıktı veren bir koddur."
      ]
    },
    {
      "cell_type": "code",
      "source": [
        "import sys # import python programlama dilinde yazılıma kütüphane ekmeye yarayan bir kod blogudur.\n",
        "print(sys.version)"
      ],
      "metadata": {
        "colab": {
          "base_uri": "https://localhost:8080/"
        },
        "id": "fmJnhF1Tcu_U",
        "outputId": "5e7f1376-60d0-477d-94d6-3ac9f1eea204"
      },
      "execution_count": null,
      "outputs": [
        {
          "output_type": "stream",
          "name": "stdout",
          "text": [
            "3.10.12 (main, Sep 11 2024, 15:47:36) [GCC 11.4.0]\n"
          ]
        }
      ]
    },
    {
      "cell_type": "code",
      "source": [
        "from google.colab import drive# google colab-drive bağlantısıtır.\n",
        "drive.mount('/content/drive')"
      ],
      "metadata": {
        "colab": {
          "base_uri": "https://localhost:8080/"
        },
        "id": "05vwUQVsdHlS",
        "outputId": "6f4cff2f-e283-441d-f016-52cbbfd4b809"
      },
      "execution_count": null,
      "outputs": [
        {
          "output_type": "stream",
          "name": "stdout",
          "text": [
            "Mounted at /content/drive\n"
          ]
        }
      ]
    },
    {
      "cell_type": "code",
      "source": [
        "import os\n",
        "os.chdir('/content/drive/My Drive/Yapay_Zeka2')\n",
        "!pwd #bize kodun çıktısını dosya yolu olarak veren bir kod blogudur."
      ],
      "metadata": {
        "colab": {
          "base_uri": "https://localhost:8080/"
        },
        "id": "bwJrsGesdgSC",
        "outputId": "b4566d1e-b57e-412a-9bb2-b6a4f64ec8e9"
      },
      "execution_count": null,
      "outputs": [
        {
          "output_type": "stream",
          "name": "stdout",
          "text": [
            "/content/drive/My Drive/Yapay_Zeka2\n"
          ]
        }
      ]
    },
    {
      "cell_type": "markdown",
      "source": [],
      "metadata": {
        "id": "ScTetZjVM16j"
      }
    }
  ]
}